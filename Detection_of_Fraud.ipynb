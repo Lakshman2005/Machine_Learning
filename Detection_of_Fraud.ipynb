{
  "nbformat": 4,
  "nbformat_minor": 0,
  "metadata": {
    "colab": {
      "provenance": []
    },
    "kernelspec": {
      "name": "python3",
      "display_name": "Python 3"
    },
    "language_info": {
      "name": "python"
    }
  },
  "cells": [
    {
      "cell_type": "code",
      "source": [
        "import pandas as pd\n",
        "import numpy as np\n",
        "import matplotlib.pyplot as plt\n",
        "import seaborn as sns\n",
        "from sklearn.model_selection import train_test_split\n",
        "from sklearn.preprocessing import LabelEncoder, StandardScaler\n",
        "from imblearn.over_sampling import SMOTE\n",
        "from sklearn.ensemble import RandomForestClassifier\n",
        "from xgboost import XGBClassifier\n",
        "from sklearn.metrics import classification_report, confusion_matrix, roc_auc_score"
      ],
      "metadata": {
        "id": "9D8w5SxCf8B6"
      },
      "execution_count": null,
      "outputs": []
    },
    {
      "cell_type": "code",
      "source": [
        "# Load the dataset\n",
        "df = pd.read_csv('Fraud.csv')"
      ],
      "metadata": {
        "id": "kr6lp8o_hFUw"
      },
      "execution_count": null,
      "outputs": []
    },
    {
      "cell_type": "code",
      "source": [
        "# Display basic info\n",
        "print(\"Dataset Shape:\", df.shape)\n",
        "print(\"\\nColumn Info:\\n\", df.info())\n",
        "print(\"\\nMissing Values:\\n\", df.isnull().sum())\n",
        "print(\"\\nClass Distribution:\\n\", df['isFraud'].value_counts())"
      ],
      "metadata": {
        "colab": {
          "base_uri": "https://localhost:8080/"
        },
        "id": "T9D9xythhHq-",
        "outputId": "f5046c14-56a6-4456-c629-6f69855e09bb"
      },
      "execution_count": null,
      "outputs": [
        {
          "output_type": "stream",
          "name": "stdout",
          "text": [
            "Dataset Shape: (872856, 11)\n",
            "<class 'pandas.core.frame.DataFrame'>\n",
            "RangeIndex: 872856 entries, 0 to 872855\n",
            "Data columns (total 11 columns):\n",
            " #   Column          Non-Null Count   Dtype  \n",
            "---  ------          --------------   -----  \n",
            " 0   step            872856 non-null  int64  \n",
            " 1   type            872856 non-null  object \n",
            " 2   amount          872856 non-null  float64\n",
            " 3   nameOrig        872856 non-null  object \n",
            " 4   oldbalanceOrg   872856 non-null  float64\n",
            " 5   newbalanceOrig  872855 non-null  float64\n",
            " 6   nameDest        872855 non-null  object \n",
            " 7   oldbalanceDest  872855 non-null  float64\n",
            " 8   newbalanceDest  872855 non-null  float64\n",
            " 9   isFraud         872855 non-null  float64\n",
            " 10  isFlaggedFraud  872855 non-null  float64\n",
            "dtypes: float64(7), int64(1), object(3)\n",
            "memory usage: 73.3+ MB\n",
            "\n",
            "Column Info:\n",
            " None\n",
            "\n",
            "Missing Values:\n",
            " step              0\n",
            "type              0\n",
            "amount            0\n",
            "nameOrig          0\n",
            "oldbalanceOrg     0\n",
            "newbalanceOrig    1\n",
            "nameDest          1\n",
            "oldbalanceDest    1\n",
            "newbalanceDest    1\n",
            "isFraud           1\n",
            "isFlaggedFraud    1\n",
            "dtype: int64\n",
            "\n",
            "Class Distribution:\n",
            " isFraud\n",
            "0.0    872365\n",
            "1.0       490\n",
            "Name: count, dtype: int64\n"
          ]
        }
      ]
    },
    {
      "cell_type": "code",
      "source": [
        "# Handle missing values in target variable\n",
        "if df['isFraud'].isnull().sum() > 0:\n",
        "    print(\"Missing values found in 'isFraud'. Filling with mode...\")\n",
        "    df['isFraud'] = df['isFraud'].fillna(df['isFraud'].mode()[0])"
      ],
      "metadata": {
        "id": "eO9dvRUShLa3"
      },
      "execution_count": null,
      "outputs": []
    },
    {
      "cell_type": "code",
      "source": [
        "# Handle missing values in other columns\n",
        "df.fillna(0, inplace=True)"
      ],
      "metadata": {
        "id": "62mwH0MNhO5-"
      },
      "execution_count": null,
      "outputs": []
    },
    {
      "cell_type": "code",
      "source": [
        "# Drop unnecessary columns\n",
        "df.drop(['nameOrig', 'nameDest'], axis=1, inplace=True)"
      ],
      "metadata": {
        "id": "nKdTZxVJhzkb"
      },
      "execution_count": null,
      "outputs": []
    },
    {
      "cell_type": "code",
      "source": [
        "# Encode categorical 'type' column\n",
        "le = LabelEncoder()\n",
        "df['type'] = le.fit_transform(df['type'])"
      ],
      "metadata": {
        "id": "aWfP_KGwh3oT"
      },
      "execution_count": null,
      "outputs": []
    },
    {
      "cell_type": "code",
      "source": [
        "# Feature Engineering\n",
        "df['balance_change_orig'] = df['oldbalanceOrg'] - df['newbalanceOrig']\n",
        "df['balance_change_dest'] = df['oldbalanceDest'] - df['newbalanceDest']"
      ],
      "metadata": {
        "id": "CVEly3d6h6cc"
      },
      "execution_count": null,
      "outputs": []
    },
    {
      "cell_type": "code",
      "source": [
        "# Select features & target\n",
        "X = df.drop(columns=['isFraud', 'isFlaggedFraud'])\n",
        "y = df['isFraud']"
      ],
      "metadata": {
        "id": "EqAfnJ1Nh89b"
      },
      "execution_count": null,
      "outputs": []
    },
    {
      "cell_type": "code",
      "source": [
        "# Train-test split\n",
        "X_train, X_test, y_train, y_test = train_test_split(X, y, test_size=0.2, random_state=42, stratify=y)"
      ],
      "metadata": {
        "id": "4hYQ0MTdh_At"
      },
      "execution_count": null,
      "outputs": []
    },
    {
      "cell_type": "code",
      "source": [
        "# Handle Class Imbalance with SMOTE\n",
        "smote = SMOTE(random_state=42)\n",
        "X_train_resampled, y_train_resampled = smote.fit_resample(X_train, y_train)"
      ],
      "metadata": {
        "id": "BL8HGQtIiCEl"
      },
      "execution_count": null,
      "outputs": []
    },
    {
      "cell_type": "code",
      "source": [
        "# Model Training & Evaluation\n",
        "def train_and_evaluate(model, X_train, y_train, X_test, y_test):\n",
        "    model.fit(X_train, y_train)\n",
        "    y_pred = model.predict(X_test)\n",
        "    print(\"\\nModel Performance:\\n\")\n",
        "    print(classification_report(y_test, y_pred))\n",
        "    print(\"ROC-AUC Score:\", roc_auc_score(y_test, y_pred))\n",
        "     # Confusion Matrix\n",
        "    plt.figure(figsize=(6, 4))\n",
        "    sns.heatmap(confusion_matrix(y_test, y_pred), annot=True, fmt='d', cmap='Blues')\n",
        "    plt.xlabel(\"Predicted\")\n",
        "    plt.ylabel(\"Actual\")\n",
        "    plt.title(\"Confusion Matrix\")\n",
        "    plt.show()"
      ],
      "metadata": {
        "id": "q7pxPX_IiE4F"
      },
      "execution_count": null,
      "outputs": []
    },
    {
      "cell_type": "code",
      "source": [
        "# Train RandomForest & XGBoost\n",
        "rf_model = RandomForestClassifier(n_estimators=100, random_state=42)\n",
        "print(\"Random Forest Model:\")\n",
        "train_and_evaluate(rf_model, X_train_resampled, y_train_resampled, X_test, y_test)\n",
        "\n",
        "xgb_model = XGBClassifier(use_label_encoder=False, eval_metric='logloss')\n",
        "print(\"XGBoost Model:\")\n",
        "train_and_evaluate(xgb_model, X_train_resampled, y_train_resampled, X_test, y_test)\n"
      ],
      "metadata": {
        "colab": {
          "base_uri": "https://localhost:8080/",
          "height": 1000
        },
        "id": "zRcHn5nPiMMl",
        "outputId": "6c38c86c-ac5a-437e-e6f3-06d586b9dd05"
      },
      "execution_count": null,
      "outputs": [
        {
          "output_type": "stream",
          "name": "stdout",
          "text": [
            "Random Forest Model:\n",
            "\n",
            "Model Performance:\n",
            "\n",
            "              precision    recall  f1-score   support\n",
            "\n",
            "         0.0       1.00      1.00      1.00    174474\n",
            "         1.0       0.38      0.76      0.51        98\n",
            "\n",
            "    accuracy                           1.00    174572\n",
            "   macro avg       0.69      0.88      0.75    174572\n",
            "weighted avg       1.00      1.00      1.00    174572\n",
            "\n",
            "ROC-AUC Score: 0.8772071296278751\n"
          ]
        },
        {
          "output_type": "display_data",
          "data": {
            "text/plain": [
              "<Figure size 600x400 with 2 Axes>"
            ],
            "image/png": "[encoded data removed]"
          },
          "metadata": {}
        },
        {
          "output_type": "stream",
          "name": "stdout",
          "text": [
            "XGBoost Model:\n"
          ]
        },
        {
          "output_type": "stream",
          "name": "stderr",
          "text": [
            "/usr/local/lib/python3.11/dist-packages/xgboost/core.py:158: UserWarning: [14:32:01] WARNING: /workspace/src/learner.cc:740: \n",
            "Parameters: { \"use_label_encoder\" } are not used.\n",
            "\n",
            "  warnings.warn(smsg, UserWarning)\n"
          ]
        },
        {
          "output_type": "stream",
          "name": "stdout",
          "text": [
            "\n",
            "Model Performance:\n",
            "\n",
            "              precision    recall  f1-score   support\n",
            "\n",
            "         0.0       1.00      1.00      1.00    174474\n",
            "         1.0       0.13      0.85      0.22        98\n",
            "\n",
            "    accuracy                           1.00    174572\n",
            "   macro avg       0.56      0.92      0.61    174572\n",
            "weighted avg       1.00      1.00      1.00    174572\n",
            "\n",
            "ROC-AUC Score: 0.9218731613832645\n"
          ]
        },
        {
          "output_type": "display_data",
          "data": {
            "text/plain": [
              "<Figure size 600x400 with 2 Axes>"
            ],
            "image/png": "[encoded data removed]"
          },
          "metadata": {}
        }
      ]
    },
    {
      "cell_type": "code",
      "source": [],
      "metadata": {
        "id": "CqbOZhmpiRqO"
      },
      "execution_count": null,
      "outputs": []
    }
  ]
}